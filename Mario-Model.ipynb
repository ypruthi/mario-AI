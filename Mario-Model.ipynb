{
 "cells": [
  {
   "cell_type": "code",
   "execution_count": 1,
   "metadata": {},
   "outputs": [],
   "source": [
    "#Importing Super Mario Bros. video game as well as controlling functionality\n",
    "import gym_super_mario_bros\n",
    "from nes_py.wrappers import JoypadSpace\n",
    "from gym_super_mario_bros.actions import SIMPLE_MOVEMENT\n",
    "env = gym_super_mario_bros.make('SuperMarioBros-v0')\n",
    "env = JoypadSpace(env, SIMPLE_MOVEMENT)\n",
    "\n",
    "\n",
    "from gym.wrappers import GrayScaleObservation\n",
    "from stable_baselines3.common.vec_env import VecFrameStack, DummyVecEnv\n",
    "import os \n",
    "from stable_baselines3 import PPO\n",
    "from stable_baselines3.common.Images import BaseCallback\n",
    "\n",
    "#Using matplotlib to display frames from game\n",
    "from matplotlib import pyplot as plt"
   ]
  },
  {
   "cell_type": "code",
   "execution_count": null,
   "metadata": {},
   "outputs": [],
   "source": [
    "#Initializing the env\n",
    "env = gym_super_mario_bros.make('SuperMarioBros-v0')\n",
    "env = JoypadSpace(env, SIMPLE_MOVEMENT)\n",
    "env = GrayScaleObservation(env, keep_dim=True)\n",
    "env = DummyVecEnv([lambda: env])\n",
    "env = VecFrameStack(env, 4, channels_order='last')\n",
    "\n",
    "state = env.reset()\n",
    "\n",
    "state, reward, done, info = env.step([5])\n",
    "\n",
    "#Display frames\n",
    "plt.figure(figsize=(20,16))\n",
    "for idx in range(state.shape[3]):\n",
    "    plt.subplot(1,4,idx+1)\n",
    "    plt.imshow(state[0][:,:,idx])\n",
    "plt.show()"
   ]
  },
  {
   "cell_type": "code",
   "execution_count": null,
   "metadata": {},
   "outputs": [],
   "source": [
    "#Saves current 'image' of model every x iterations automatically, in this case 25000 iterations\n",
    "\n",
    "class ModelCallbackSave(BaseCallback):\n",
    "\n",
    "    def __initalize__(self, frequency_check, directory, verbose=1):\n",
    "\n",
    "        super(ModelCallbackSave, self).__init__(verbose)\n",
    "        self.frequency_check = frequency_check\n",
    "        self.directory = directory\n",
    "\n",
    "    def _init_callback(self):\n",
    "\n",
    "        if self.directory is not None:\n",
    "            os.makedirs(self.directory, exist_ok=True)\n",
    "\n",
    "    def _on_step(self):\n",
    "        \n",
    "        if self.n_calls % self.frequency_check == 0:\n",
    "            model_path = os.path.join(self.directory, 'most_recent_{}'.format(self.n_calls))\n",
    "            self.model.save(model_path)\n",
    "\n",
    "        return True\n",
    "\n",
    "DIRECTORY = './models/'\n",
    "\n",
    "checkpoint = ModelCallbackSave(frequency_check = 25000, directory=DIRECTORY)"
   ]
  },
  {
   "cell_type": "code",
   "execution_count": null,
   "metadata": {},
   "outputs": [],
   "source": [
    "#Running the model\n",
    "\n",
    "model = PPO.load('./models/most_recent_1000000')\n",
    "\n",
    "state = env.reset()\n",
    "\n",
    "while True: \n",
    "    \n",
    "    action, _ = model.predict(state)\n",
    "    state, reward, done, info = env.step(action)\n",
    "    env.render()\n",
    "\n"
   ]
  }
 ],
 "metadata": {
  "interpreter": {
   "hash": "3ab5eb6fee431c5aa0450d9f5bdc4e70b1fb5a56ab4855e39eafa169a5ce640e"
  },
  "kernelspec": {
   "display_name": "Python 3.9.12 ('base')",
   "language": "python",
   "name": "python3"
  },
  "language_info": {
   "codemirror_mode": {
    "name": "ipython",
    "version": 3
   },
   "file_extension": ".py",
   "mimetype": "text/x-python",
   "name": "python",
   "nbconvert_exporter": "python",
   "pygments_lexer": "ipython3",
   "version": "3.9.12"
  },
  "orig_nbformat": 4
 },
 "nbformat": 4,
 "nbformat_minor": 2
}
